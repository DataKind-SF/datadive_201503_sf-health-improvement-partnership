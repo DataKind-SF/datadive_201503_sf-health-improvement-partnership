{
 "metadata": {
  "name": "",
  "signature": "sha256:99008daa1e6857023cdb44b6194772a98c964f1c095857307deff8393d770a1a"
 },
 "nbformat": 3,
 "nbformat_minor": 0,
 "worksheets": [
  {
   "cells": [
    {
     "cell_type": "markdown",
     "metadata": {},
     "source": [
      "#Clustering Crime and Alcohol Off-Site Sales Locations\n",
      "\n",
      "This notebook walks through an example of KMeans clustering crime data with alcohol license locations. This clustering is performed solely based on the Lat/Long locations of stores and crimes.\n",
      "\n",
      "The most basic question being answered is:\n",
      "\n",
      "Given Lat/Long - can we draw some association between a liquor store's centroid and crime/a type of crime's centroid? \n",
      "Or another way, will groups of crime overlap with groups of liquor stores.\n",
      "\n",
      "\n",
      "*this specific notebook is for large scale output of each cluster group* - see the other notebook with a similar name (in this directory) to see the original data exploration.\n"
     ]
    },
    {
     "cell_type": "code",
     "collapsed": false,
     "input": [
      "%matplotlib inline\n",
      "import pandas as pd\n",
      "import numpy as np\n",
      "from pandas.tools.plotting import scatter_matrix\n",
      "from sklearn.cross_validation import train_test_split\n",
      "import matplotlib.pyplot as plt\n",
      "import random\n",
      "pd.options.display.mpl_style = 'default'"
     ],
     "language": "python",
     "metadata": {},
     "outputs": [],
     "prompt_number": 1
    },
    {
     "cell_type": "code",
     "collapsed": false,
     "input": [
      "alc = pd.read_csv(\"data/alcohol_licenses_locations.csv\")\n",
      "crime = pd.read_csv(\"data/Map__Crime_Incidents_-_from_1_Jan_2003_REDUCED.csv\")"
     ],
     "language": "python",
     "metadata": {},
     "outputs": [],
     "prompt_number": 2
    },
    {
     "cell_type": "code",
     "collapsed": false,
     "input": [
      "alc.columns"
     ],
     "language": "python",
     "metadata": {},
     "outputs": [
      {
       "metadata": {},
       "output_type": "pyout",
       "prompt_number": 3,
       "text": [
        "Index([u'Unnamed: 0', u'Join_Count', u'Status', u'Score', u'Match_type', u'Side', u'X', u'Y', u'Match_addr', u'ARC_Street', u'Entry_no', u'Owner_name', u'street', u'city', u'state', u'zip', u'Entry_no_1', u'License_Nu', u'Status_1', u'License_Ty', u'Orig_Iss_D', u'Expir_Date', u'Census_tra', u'Business_N', u'Mailing_Ad', u'Geo_Code', u'Tract2010', u'coords.x1', u'coords.x2'], dtype='object')"
       ]
      }
     ],
     "prompt_number": 3
    },
    {
     "cell_type": "code",
     "collapsed": false,
     "input": [
      "crime.columns"
     ],
     "language": "python",
     "metadata": {},
     "outputs": [
      {
       "metadata": {},
       "output_type": "pyout",
       "prompt_number": 4,
       "text": [
        "Index([u'IncidntNum', u'Category', u'Descript', u'DayOfWeek', u'Date', u'Time', u'PdDistrict', u'Resolution', u'Address', u'X', u'Y', u'Location'], dtype='object')"
       ]
      }
     ],
     "prompt_number": 4
    },
    {
     "cell_type": "markdown",
     "metadata": {},
     "source": [
      "This is an `outer` join combining the reduced crime set and the alcohol licenses location data. It performs a join on the X & Y Columns (lat & Lon)."
     ]
    },
    {
     "cell_type": "code",
     "collapsed": false,
     "input": [
      "combo = pd.merge(alc, crime, on=['X','Y'], how='outer')"
     ],
     "language": "python",
     "metadata": {},
     "outputs": [],
     "prompt_number": 5
    },
    {
     "cell_type": "markdown",
     "metadata": {},
     "source": [
      "At this point I am reducing the license types to just 20 and 21 - which are offsite types.\n",
      "\n",
      "Reference dictionary here: http://www.abc.ca.gov/datport/SubAnnStatRep.pdf"
     ]
    },
    {
     "cell_type": "code",
     "collapsed": false,
     "input": [
      "features = ['X','Y']"
     ],
     "language": "python",
     "metadata": {},
     "outputs": [],
     "prompt_number": 6
    },
    {
     "cell_type": "markdown",
     "metadata": {},
     "source": [
      "# K Means\n",
      "http://scikit-learn.org/stable/modules/generated/sklearn.cluster.KMeans.html"
     ]
    },
    {
     "cell_type": "code",
     "collapsed": false,
     "input": [
      "from sklearn.cluster import KMeans"
     ],
     "language": "python",
     "metadata": {},
     "outputs": [],
     "prompt_number": 7
    },
    {
     "cell_type": "markdown",
     "metadata": {},
     "source": [
      "###Clustering Liquor Stores"
     ]
    },
    {
     "cell_type": "code",
     "collapsed": false,
     "input": [
      "# look at just 20, 21 license types\n",
      "print len(alc)\n",
      "alc = alc[(alc['License_Ty'] == 20) | (alc['License_Ty'] == 21)]\n",
      "print len(alc)"
     ],
     "language": "python",
     "metadata": {},
     "outputs": [
      {
       "output_type": "stream",
       "stream": "stdout",
       "text": [
        "3635\n",
        "809\n"
       ]
      }
     ],
     "prompt_number": 8
    },
    {
     "cell_type": "code",
     "collapsed": false,
     "input": [
      "alc_X = alc[features]"
     ],
     "language": "python",
     "metadata": {},
     "outputs": [],
     "prompt_number": 9
    },
    {
     "cell_type": "code",
     "collapsed": false,
     "input": [
      "num_clusters = 55\n",
      "liq_km = KMeans(num_clusters)\n",
      "liq_km_fit = liq_km.fit(alc_X)\n",
      "\n",
      "pd.DataFrame(liq_km_fit.cluster_centers_).to_csv(\"cluster_outputs/liquor_stores_cluster_centers.csv\", index=False)"
     ],
     "language": "python",
     "metadata": {},
     "outputs": [],
     "prompt_number": 13
    },
    {
     "cell_type": "markdown",
     "metadata": {},
     "source": [
      "\n",
      "Now we're going to repeat the process for crime locations. The goal here is to see if there are any location overlaps in the above stores + crime. Eventually we'll move into categories of crimes.\n",
      "\n",
      "###Clustering Crime Categories"
     ]
    },
    {
     "cell_type": "code",
     "collapsed": false,
     "input": [
      "print crime.Category.unique()\n",
      "crime.Date = crime.Date.apply(pd.to_datetime)"
     ],
     "language": "python",
     "metadata": {},
     "outputs": [
      {
       "output_type": "stream",
       "stream": "stdout",
       "text": [
        "['ASSAULT' 'OTHER OFFENSES' 'NON-CRIMINAL' 'SEX OFFENSES, FORCIBLE'\n",
        " 'SUSPICIOUS OCC' 'DRUG/NARCOTIC' 'WEAPON LAWS' 'VANDALISM' 'TRESPASS'\n",
        " 'SECONDARY CODES' 'DRIVING UNDER THE INFLUENCE' 'FAMILY OFFENSES'\n",
        " 'DRUNKENNESS' 'LOITERING' 'PROSTITUTION' 'LIQUOR LAWS'\n",
        " 'DISORDERLY CONDUCT' 'SUICIDE' 'SEX OFFENSES, NON FORCIBLE'\n",
        " 'PORNOGRAPHY/OBSCENE MAT']\n"
       ]
      }
     ],
     "prompt_number": 11
    },
    {
     "cell_type": "code",
     "collapsed": false,
     "input": [
      "# this just groups by each Category - Restricted Specifically to 2013\n",
      "num_clusters = 55\n",
      "for cat, data in crime[crime.Date > '2013-1-1'][crime.Date < '2014-1-1'].reset_index().groupby('Category'):\n",
      "    km = KMeans(num_clusters)\n",
      "    try:\n",
      "        km_fit = km.fit(data[features])\n",
      "        pd.DataFrame(km_fit.cluster_centers_).to_csv(\"cluster_outputs/\" + cat.replace(\"/\",\" or \") + \"_cluster_centers.csv\", index=False)\n",
      "    except ValueError:\n",
      "        pass\n",
      "\n"
     ],
     "language": "python",
     "metadata": {},
     "outputs": [
      {
       "output_type": "stream",
       "stream": "stderr",
       "text": [
        "/Library/Python/2.7/site-packages/pandas/core/frame.py:1771: UserWarning: Boolean Series key will be reindexed to match DataFrame index.\n",
        "  \"DataFrame index.\", UserWarning)\n"
       ]
      }
     ],
     "prompt_number": 12
    },
    {
     "cell_type": "code",
     "collapsed": false,
     "input": [],
     "language": "python",
     "metadata": {},
     "outputs": []
    }
   ],
   "metadata": {}
  }
 ]
}