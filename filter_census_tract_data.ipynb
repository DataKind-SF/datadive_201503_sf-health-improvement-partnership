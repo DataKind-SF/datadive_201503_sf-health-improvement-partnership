{
 "cells": [
  {
   "cell_type": "markdown",
   "metadata": {},
   "source": [
    "##Reduce / transform Census Tract data\n",
    "[Data](https://docs.google.com/file/d/0B1aa6nX82m2WY2RBNERsd0VfN1k/edit)  \n",
    "[US Census Documentation](http://www.census.gov/acs/www/data_documentation/documentation_main/)"
   ]
  },
  {
   "cell_type": "code",
   "execution_count": 245,
   "metadata": {
    "collapsed": false
   },
   "outputs": [
    {
     "name": "stdout",
     "output_type": "stream",
     "text": [
      "Once deleted, variables cannot be recovered. Proceed (y/[n])? y\n"
     ]
    }
   ],
   "source": [
    "reset"
   ]
  },
  {
   "cell_type": "code",
   "execution_count": 246,
   "metadata": {
    "collapsed": true
   },
   "outputs": [],
   "source": [
    "import pandas as pd\n",
    "from pprint import pprint"
   ]
  },
  {
   "cell_type": "code",
   "execution_count": 247,
   "metadata": {
    "collapsed": false
   },
   "outputs": [],
   "source": [
    "path_base = (\"/Users/brian/Google Drive/\")\n",
    "path_specfic = \"SPHIP/2009-2013 ACS Demographic Data/Census Tract Data Files and Documentation/\"\n",
    "years = ['2', '3', '4', '5']\n",
    "year = years[0]"
   ]
  },
  {
   "cell_type": "code",
   "execution_count": 248,
   "metadata": {
    "collapsed": false
   },
   "outputs": [
    {
     "name": "stdout",
     "output_type": "stream",
     "text": [
      "File: ACS_13_5YR_DP02.txt\n",
      "\n",
      "DP02\n",
      "SELECTED SOCIAL CHARACTERISTICS IN THE UNITED STATES\n",
      "\n",
      "Although the American Community Survey (ACS) produces population, demographic and housing unit estimates, it is the Census Bureau's Population Estimates Program that produces and disseminates the official estimates of the population for the nation, states, counties, cities and towns and estimates of housing units for states and counties.\n",
      "\n",
      "\n",
      "Supporting documentation on code lists, subject definitions, data accuracy, and statistical testing can be found on the American Community Survey website in the Data and Documentation section.\n",
      "\n",
      "Sample size and data quality measures (including coverage rates, allocation rates, and response rates) can be found on the American Community Survey website in the Methodology section.\n",
      "\n",
      "\n",
      "Source:  U.S. Census Bureau, 2009-2013 5-Year American Community Survey\n",
      "\n",
      "\n",
      "Explanation of Symbols:An '**' entry in the margin of error column indicates that either no sample observations or too few sample observations w\n",
      "...\n"
     ]
    }
   ],
   "source": [
    "file_name = 'ACS_13_5YR_DP0'+year+'.txt'\n",
    "print('File: '+file_name+'\\n')\n",
    "with open(path_base+path_specfic+file_name) as f:\n",
    "    text_description = f.read()\n",
    "print(text_description[:1000])\n",
    "print('...')"
   ]
  },
  {
   "cell_type": "code",
   "execution_count": 249,
   "metadata": {
    "collapsed": false
   },
   "outputs": [],
   "source": [
    "# Load meta data\n",
    "file_name = \"ACS_13_5YR_DP0\"+year+\"_metadata.csv\"\n",
    "path_name = (path_base+path_specfic+file_name)\n",
    "df_meta = pd.read_csv(path_name,\n",
    "                      header=None)\n",
    "df_meta.columns = ['data_column_name', 'description']\n",
    "# df_meta.head()"
   ]
  },
  {
   "cell_type": "code",
   "execution_count": 250,
   "metadata": {
    "collapsed": false
   },
   "outputs": [],
   "source": [
    "# Load data\n",
    "file_name = \"ACS_13_5YR_DP0\"+year+\"_with_ann.csv\"\n",
    "path_name = (path_base+path_specfic+file_name)\n",
    "df_data_with_ann = pd.read_csv(path_name)\n",
    "\n",
    "# Create data dictionary\n",
    "df_data_with_ann[:1] # 1st row is annotations / meta data\n",
    "data_dictionary = df_data_with_ann[:1].T.to_dict()[0]\n",
    "\n",
    "# Drop annotations/meta data from dataframe\n",
    "df_data = df_data_with_ann.drop(df_data_with_ann.head(n=1).index)"
   ]
  },
  {
   "cell_type": "code",
   "execution_count": 251,
   "metadata": {
    "collapsed": false
   },
   "outputs": [
    {
     "data": {
      "text/plain": [
       "True"
      ]
     },
     "execution_count": 251,
     "metadata": {},
     "output_type": "execute_result"
    }
   ],
   "source": [
    "# Compare data dictionary to meta-data-frame (they should be the same)\n",
    "df_meta.set_index('data_column_name')['description'].to_dict() == data_dictionary"
   ]
  },
  {
   "cell_type": "code",
   "execution_count": 252,
   "metadata": {
    "collapsed": false
   },
   "outputs": [],
   "source": [
    "# Improve column naming\n",
    "\n",
    "# Data dataframe\n",
    "# Lowercase\n",
    "df_data.columns = [c.lower() for c in df_data.columns] \n",
    "# Rename\n",
    "df_data = df_data.rename(columns={'geo.id': 'geo_id',\n",
    "                                  'geo.id2': 'geo_id2',\n",
    "                                  'geo.display-label': 'geo_display_label'\n",
    "                            })\n",
    "\n",
    "# Meta dataframe\n",
    "# Lowercase\n",
    "df_meta.data_column_name = df_meta.data_column_name.apply(lambda x: x.lower())\n",
    "# Rename\n",
    "df_meta.ix[0,'data_column_name'] = 'geo_id'\n",
    "df_meta.ix[1,'data_column_name'] = 'geo_id2'\n",
    "df_meta.ix[2,'data_column_name'] = 'geo_display_label'\n",
    "df_meta.head(n=4)\n",
    "\n",
    "# Data dictionary\n",
    "# Lowercase\n",
    "data_dictionary = {k.lower(): v for k, v in data_dictionary.items()}\n",
    "# Rename\n",
    "data_dictionary['geo_display_label'] = data_dictionary.pop('geo.display-label')\n",
    "data_dictionary['geo_id'] = data_dictionary.pop('geo.id')\n",
    "data_dictionary['geo_display_label'] = data_dictionary.pop('geo.id2')"
   ]
  },
  {
   "cell_type": "code",
   "execution_count": 290,
   "metadata": {
    "collapsed": false
   },
   "outputs": [
    {
     "name": "stdout",
     "output_type": "stream",
     "text": [
      "Metadata:\n"
     ]
    },
    {
     "data": {
      "text/html": [
       "<div style=\"max-height:1000px;max-width:1500px;overflow:auto;\">\n",
       "<table border=\"1\" class=\"dataframe\">\n",
       "  <thead>\n",
       "    <tr style=\"text-align: right;\">\n",
       "      <th></th>\n",
       "      <th>data_column_name</th>\n",
       "      <th>description</th>\n",
       "    </tr>\n",
       "  </thead>\n",
       "  <tbody>\n",
       "    <tr>\n",
       "      <th>0</th>\n",
       "      <td>geo_id</td>\n",
       "      <td>Id</td>\n",
       "    </tr>\n",
       "    <tr>\n",
       "      <th>1</th>\n",
       "      <td>geo_id2</td>\n",
       "      <td>Id2</td>\n",
       "    </tr>\n",
       "    <tr>\n",
       "      <th>2</th>\n",
       "      <td>geo_display_label</td>\n",
       "      <td>Geography</td>\n",
       "    </tr>\n",
       "    <tr>\n",
       "      <th>3</th>\n",
       "      <td>hc01_vc03</td>\n",
       "      <td>Estimate; HOUSEHOLDS BY TYPE - Total households</td>\n",
       "    </tr>\n",
       "  </tbody>\n",
       "</table>\n",
       "</div>"
      ],
      "text/plain": [
       "    data_column_name                                      description\n",
       "0             geo_id                                               Id\n",
       "1            geo_id2                                              Id2\n",
       "2  geo_display_label                                        Geography\n",
       "3          hc01_vc03  Estimate; HOUSEHOLDS BY TYPE - Total households"
      ]
     },
     "execution_count": 290,
     "metadata": {},
     "output_type": "execute_result"
    }
   ],
   "source": [
    "# print('data dictionary')\n",
    "# pprint(data_dictionary)\n",
    "\n",
    "print('Metadata:')\n",
    "df_meta.head(n=4)"
   ]
  },
  {
   "cell_type": "code",
   "execution_count": 254,
   "metadata": {
    "collapsed": false
   },
   "outputs": [
    {
     "name": "stdout",
     "output_type": "stream",
     "text": [
      "Data:\n"
     ]
    },
    {
     "data": {
      "text/html": [
       "<div style=\"max-height:1000px;max-width:1500px;overflow:auto;\">\n",
       "<table border=\"1\" class=\"dataframe\">\n",
       "  <thead>\n",
       "    <tr style=\"text-align: right;\">\n",
       "      <th></th>\n",
       "      <th>geo_id</th>\n",
       "      <th>geo_id2</th>\n",
       "      <th>geo_display_label</th>\n",
       "      <th>hc01_vc03</th>\n",
       "      <th>hc02_vc03</th>\n",
       "      <th>hc03_vc03</th>\n",
       "      <th>hc04_vc03</th>\n",
       "      <th>hc01_vc04</th>\n",
       "      <th>hc02_vc04</th>\n",
       "      <th>hc03_vc04</th>\n",
       "      <th>...</th>\n",
       "      <th>hc03_vc216</th>\n",
       "      <th>hc04_vc216</th>\n",
       "      <th>hc01_vc217</th>\n",
       "      <th>hc02_vc217</th>\n",
       "      <th>hc03_vc217</th>\n",
       "      <th>hc04_vc217</th>\n",
       "      <th>hc01_vc218</th>\n",
       "      <th>hc02_vc218</th>\n",
       "      <th>hc03_vc218</th>\n",
       "      <th>hc04_vc218</th>\n",
       "    </tr>\n",
       "  </thead>\n",
       "  <tbody>\n",
       "    <tr>\n",
       "      <th>1</th>\n",
       "      <td>1400000US06075010100</td>\n",
       "      <td>06075010100</td>\n",
       "      <td>Census Tract 101, San Francisco County, Califo...</td>\n",
       "      <td>2177</td>\n",
       "      <td>126</td>\n",
       "      <td>2177</td>\n",
       "      <td>(X)</td>\n",
       "      <td>603</td>\n",
       "      <td>137</td>\n",
       "      <td>27.7</td>\n",
       "      <td>...</td>\n",
       "      <td>(X)</td>\n",
       "      <td>(X)</td>\n",
       "      <td>(X)</td>\n",
       "      <td>(X)</td>\n",
       "      <td>(X)</td>\n",
       "      <td>(X)</td>\n",
       "      <td>(X)</td>\n",
       "      <td>(X)</td>\n",
       "      <td>(X)</td>\n",
       "      <td>(X)</td>\n",
       "    </tr>\n",
       "    <tr>\n",
       "      <th>2</th>\n",
       "      <td>1400000US06075010200</td>\n",
       "      <td>06075010200</td>\n",
       "      <td>Census Tract 102, San Francisco County, Califo...</td>\n",
       "      <td>2547</td>\n",
       "      <td>186</td>\n",
       "      <td>2547</td>\n",
       "      <td>(X)</td>\n",
       "      <td>677</td>\n",
       "      <td>136</td>\n",
       "      <td>26.6</td>\n",
       "      <td>...</td>\n",
       "      <td>(X)</td>\n",
       "      <td>(X)</td>\n",
       "      <td>(X)</td>\n",
       "      <td>(X)</td>\n",
       "      <td>(X)</td>\n",
       "      <td>(X)</td>\n",
       "      <td>(X)</td>\n",
       "      <td>(X)</td>\n",
       "      <td>(X)</td>\n",
       "      <td>(X)</td>\n",
       "    </tr>\n",
       "  </tbody>\n",
       "</table>\n",
       "<p>2 rows × 611 columns</p>\n",
       "</div>"
      ],
      "text/plain": [
       "                 geo_id      geo_id2  \\\n",
       "1  1400000US06075010100  06075010100   \n",
       "2  1400000US06075010200  06075010200   \n",
       "\n",
       "                                   geo_display_label hc01_vc03 hc02_vc03  \\\n",
       "1  Census Tract 101, San Francisco County, Califo...      2177       126   \n",
       "2  Census Tract 102, San Francisco County, Califo...      2547       186   \n",
       "\n",
       "  hc03_vc03 hc04_vc03 hc01_vc04 hc02_vc04 hc03_vc04    ...     hc03_vc216  \\\n",
       "1      2177       (X)       603       137      27.7    ...            (X)   \n",
       "2      2547       (X)       677       136      26.6    ...            (X)   \n",
       "\n",
       "  hc04_vc216 hc01_vc217 hc02_vc217 hc03_vc217 hc04_vc217 hc01_vc218  \\\n",
       "1        (X)        (X)        (X)        (X)        (X)        (X)   \n",
       "2        (X)        (X)        (X)        (X)        (X)        (X)   \n",
       "\n",
       "  hc02_vc218 hc03_vc218 hc04_vc218  \n",
       "1        (X)        (X)        (X)  \n",
       "2        (X)        (X)        (X)  \n",
       "\n",
       "[2 rows x 611 columns]"
      ]
     },
     "execution_count": 254,
     "metadata": {},
     "output_type": "execute_result"
    }
   ],
   "source": [
    "print(\"Data:\")\n",
    "df_data.head(n=2)"
   ]
  },
  {
   "cell_type": "markdown",
   "metadata": {},
   "source": [
    "Ideas and work is tracked on [Hackpad](https://datakindsfbayarea.hackpad.com/SF-Health-Improvement-Partnership-SFHIP-IdGfO4Yn60V)"
   ]
  },
  {
   "cell_type": "code",
   "execution_count": 256,
   "metadata": {
    "collapsed": false
   },
   "outputs": [
    {
     "data": {
      "text/html": [
       "<div style=\"max-height:1000px;max-width:1500px;overflow:auto;\">\n",
       "<table border=\"1\" class=\"dataframe\">\n",
       "  <thead>\n",
       "    <tr style=\"text-align: right;\">\n",
       "      <th></th>\n",
       "      <th>data_column_name</th>\n",
       "      <th>description</th>\n",
       "    </tr>\n",
       "  </thead>\n",
       "  <tbody>\n",
       "    <tr>\n",
       "      <th>363</th>\n",
       "      <td>hc01_vc135</td>\n",
       "      <td>Estimate; PLACE OF BIRTH - Total population - ...</td>\n",
       "    </tr>\n",
       "    <tr>\n",
       "      <th>364</th>\n",
       "      <td>hc02_vc135</td>\n",
       "      <td>Margin of Error; PLACE OF BIRTH - Total popula...</td>\n",
       "    </tr>\n",
       "    <tr>\n",
       "      <th>365</th>\n",
       "      <td>hc03_vc135</td>\n",
       "      <td>Percent; PLACE OF BIRTH - Total population - N...</td>\n",
       "    </tr>\n",
       "    <tr>\n",
       "      <th>366</th>\n",
       "      <td>hc04_vc135</td>\n",
       "      <td>Percent Margin of Error; PLACE OF BIRTH - Tota...</td>\n",
       "    </tr>\n",
       "  </tbody>\n",
       "</table>\n",
       "</div>"
      ],
      "text/plain": [
       "    data_column_name                                        description\n",
       "363       hc01_vc135  Estimate; PLACE OF BIRTH - Total population - ...\n",
       "364       hc02_vc135  Margin of Error; PLACE OF BIRTH - Total popula...\n",
       "365       hc03_vc135  Percent; PLACE OF BIRTH - Total population - N...\n",
       "366       hc04_vc135  Percent Margin of Error; PLACE OF BIRTH - Tota..."
      ]
     },
     "execution_count": 256,
     "metadata": {},
     "output_type": "execute_result"
    }
   ],
   "source": [
    "# Find columns that have name\n",
    "# phrase = 'Percent Margin of Error; SEX AND AGE - Total population - Female'\n",
    "phrase = 'Born in Puerto Rico'\n",
    "\n",
    "df_selected = df_meta[df_meta.description.str.contains(phrase)]\n",
    "df_selected"
   ]
  },
  {
   "cell_type": "code",
   "execution_count": 288,
   "metadata": {
    "collapsed": false
   },
   "outputs": [
    {
     "name": "stdout",
     "output_type": "stream",
     "text": [
      "Column key:  \thc01_vc216\n",
      "\n",
      "Description: \tEstimate; COMPUTERS AND INTERNET USE - Total Households\n",
      "\n",
      "***\n",
      "            \n",
      "Column key:  \thc02_vc216\n",
      "\n",
      "Description: \tMargin of Error; COMPUTERS AND INTERNET USE - Total Households\n",
      "\n",
      "***\n",
      "            \n",
      "Column key:  \thc03_vc216\n",
      "\n",
      "Description: \tPercent; COMPUTERS AND INTERNET USE - Total Households\n",
      "\n",
      "***\n",
      "            \n",
      "Column key:  \thc04_vc216\n",
      "\n",
      "Description: \tPercent Margin of Error; COMPUTERS AND INTERNET USE - Total Households\n",
      "\n",
      "***\n",
      "            \n",
      "Column key:  \thc01_vc217\n",
      "\n",
      "Description: \tEstimate; COMPUTERS AND INTERNET USE - Total Households - With a computer\n",
      "\n",
      "***\n",
      "            \n",
      "Column key:  \thc02_vc217\n",
      "\n",
      "Description: \tMargin of Error; COMPUTERS AND INTERNET USE - Total Households - With a computer\n",
      "\n",
      "***\n",
      "            \n",
      "Column key:  \thc03_vc217\n",
      "\n",
      "Description: \tPercent; COMPUTERS AND INTERNET USE - Total Households - With a computer\n",
      "\n",
      "***\n",
      "            \n",
      "Column key:  \thc04_vc217\n",
      "\n",
      "Description: \tPercent Margin of Error; COMPUTERS AND INTERNET USE - Total Households - With a computer\n",
      "\n",
      "***\n",
      "            \n",
      "Column key:  \thc01_vc218\n",
      "\n",
      "Description: \tEstimate; COMPUTERS AND INTERNET USE - Total Households - With a broadband Internet subscription\n",
      "\n",
      "***\n",
      "            \n",
      "Column key:  \thc02_vc218\n",
      "\n",
      "Description: \tMargin of Error; COMPUTERS AND INTERNET USE - Total Households - With a broadband Internet subscription\n",
      "\n",
      "***\n",
      "            \n",
      "Column key:  \thc03_vc218\n",
      "\n",
      "Description: \tPercent; COMPUTERS AND INTERNET USE - Total Households - With a broadband Internet subscription\n",
      "\n",
      "***\n",
      "            \n",
      "Column key:  \thc04_vc218\n",
      "\n",
      "Description: \tPercent Margin of Error; COMPUTERS AND INTERNET USE - Total Households - With a broadband Internet subscription\n",
      "\n",
      "***\n",
      "            \n"
     ]
    }
   ],
   "source": [
    "# Print the information\n",
    "for key, value in df_selected.values:\n",
    "    print(\"\"\"Column key:  \\t{}\\n\\nDescription: \\t{}\\n\\n***\n",
    "            \"\"\".format(key, value))"
   ]
  },
  {
   "cell_type": "code",
   "execution_count": 258,
   "metadata": {
    "collapsed": false
   },
   "outputs": [
    {
     "data": {
      "text/html": [
       "<div style=\"max-height:1000px;max-width:1500px;overflow:auto;\">\n",
       "<table border=\"1\" class=\"dataframe\">\n",
       "  <thead>\n",
       "    <tr style=\"text-align: right;\">\n",
       "      <th></th>\n",
       "      <th>geo_display_label</th>\n",
       "      <th>hc01_vc135</th>\n",
       "      <th>hc02_vc135</th>\n",
       "      <th>hc03_vc135</th>\n",
       "      <th>hc04_vc135</th>\n",
       "    </tr>\n",
       "  </thead>\n",
       "  <tbody>\n",
       "    <tr>\n",
       "      <th>1</th>\n",
       "      <td>Census Tract 101, San Francisco County, Califo...</td>\n",
       "      <td>164</td>\n",
       "      <td>181</td>\n",
       "      <td>4.4</td>\n",
       "      <td>4.8</td>\n",
       "    </tr>\n",
       "    <tr>\n",
       "      <th>2</th>\n",
       "      <td>Census Tract 102, San Francisco County, Califo...</td>\n",
       "      <td>57</td>\n",
       "      <td>51</td>\n",
       "      <td>1.4</td>\n",
       "      <td>1.3</td>\n",
       "    </tr>\n",
       "    <tr>\n",
       "      <th>3</th>\n",
       "      <td>Census Tract 103, San Francisco County, Califo...</td>\n",
       "      <td>12</td>\n",
       "      <td>20</td>\n",
       "      <td>0.3</td>\n",
       "      <td>0.4</td>\n",
       "    </tr>\n",
       "    <tr>\n",
       "      <th>4</th>\n",
       "      <td>Census Tract 104, San Francisco County, Califo...</td>\n",
       "      <td>102</td>\n",
       "      <td>98</td>\n",
       "      <td>2.0</td>\n",
       "      <td>1.9</td>\n",
       "    </tr>\n",
       "    <tr>\n",
       "      <th>5</th>\n",
       "      <td>Census Tract 105, San Francisco County, Califo...</td>\n",
       "      <td>20</td>\n",
       "      <td>26</td>\n",
       "      <td>0.8</td>\n",
       "      <td>1.0</td>\n",
       "    </tr>\n",
       "  </tbody>\n",
       "</table>\n",
       "</div>"
      ],
      "text/plain": [
       "                                   geo_display_label hc01_vc135 hc02_vc135  \\\n",
       "1  Census Tract 101, San Francisco County, Califo...        164        181   \n",
       "2  Census Tract 102, San Francisco County, Califo...         57         51   \n",
       "3  Census Tract 103, San Francisco County, Califo...         12         20   \n",
       "4  Census Tract 104, San Francisco County, Califo...        102         98   \n",
       "5  Census Tract 105, San Francisco County, Califo...         20         26   \n",
       "\n",
       "  hc03_vc135 hc04_vc135  \n",
       "1        4.4        4.8  \n",
       "2        1.4        1.3  \n",
       "3        0.3        0.4  \n",
       "4        2.0        1.9  \n",
       "5        0.8        1.0  "
      ]
     },
     "execution_count": 258,
     "metadata": {},
     "output_type": "execute_result"
    }
   ],
   "source": [
    "# Select columns\n",
    "selected_cols = df_meta[df_meta.description.str.contains(phrase)].data_column_name.values\n",
    "# Display data for those columns\n",
    "df_data[['geo_display_label']+selected_cols.tolist()].head(n=5)"
   ]
  },
  {
   "cell_type": "code",
   "execution_count": 259,
   "metadata": {
    "collapsed": true
   },
   "outputs": [],
   "source": [
    "# Aggregate columns"
   ]
  },
  {
   "cell_type": "code",
   "execution_count": 261,
   "metadata": {
    "collapsed": true
   },
   "outputs": [],
   "source": [
    "# Pivot "
   ]
  },
  {
   "cell_type": "code",
   "execution_count": null,
   "metadata": {
    "collapsed": true
   },
   "outputs": [],
   "source": []
  },
  {
   "cell_type": "code",
   "execution_count": 262,
   "metadata": {
    "collapsed": true
   },
   "outputs": [],
   "source": [
    "# Export as .csv"
   ]
  },
  {
   "cell_type": "code",
   "execution_count": null,
   "metadata": {
    "collapsed": true
   },
   "outputs": [],
   "source": [
    "# Upload to Drive"
   ]
  }
 ],
 "metadata": {
  "kernelspec": {
   "display_name": "Python 3",
   "language": "python",
   "name": "python3"
  },
  "language_info": {
   "codemirror_mode": {
    "name": "ipython",
    "version": 3
   },
   "file_extension": ".py",
   "mimetype": "text/x-python",
   "name": "python",
   "nbconvert_exporter": "python",
   "pygments_lexer": "ipython3",
   "version": "3.4.3"
  }
 },
 "nbformat": 4,
 "nbformat_minor": 0
}
