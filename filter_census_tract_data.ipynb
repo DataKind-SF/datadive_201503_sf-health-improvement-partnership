{
 "cells": [
  {
   "cell_type": "markdown",
   "metadata": {},
   "source": [
    "##Reduce / transform Census Tract data\n",
    "[Data](https://docs.google.com/file/d/0B1aa6nX82m2WY2RBNERsd0VfN1k/edit)"
   ]
  },
  {
   "cell_type": "code",
   "execution_count": 37,
   "metadata": {
    "collapsed": true
   },
   "outputs": [],
   "source": [
    "import pandas as pd\n",
    "import pprint"
   ]
  },
  {
   "cell_type": "code",
   "execution_count": 56,
   "metadata": {
    "collapsed": false
   },
   "outputs": [],
   "source": [
    "path_base = (\"/Users/brian/Google Drive/\")\n",
    "path_specfic = \"SPHIP/2009-2013 ACS Demographic Data/Census Tract Data Files and Documentation/\"\n",
    "years = ['2', '3', '4', '5']\n",
    "year = years[3]"
   ]
  },
  {
   "cell_type": "code",
   "execution_count": 58,
   "metadata": {
    "collapsed": false
   },
   "outputs": [
    {
     "name": "stdout",
     "output_type": "stream",
     "text": [
      "DP05\n",
      "ACS DEMOGRAPHIC AND HOUSING ESTIMATES\n",
      "\n",
      "Although the American Community Survey (ACS) produces population, demographic and housing unit estimates, it is the Census Bureau's Population Estimates Program that produces and disseminates the official estimates of the population for the nation, states, counties, cities and towns and estimates of housing units for states and counties.\n",
      "\n",
      "\n",
      "Supporting documentation on code lists, subject definitions, data accuracy, and statistical testing can be found on the American Community Survey website in the Data and Documentation section.\n",
      "\n",
      "Sample size and data quality measures (including coverage rates, allocation rates, and response rates) can be found on the American Community Survey website in the Methodology section.\n",
      "\n",
      "\n",
      "Source:  U.S. Census Bureau, 2009-2013 5-Year American Community Survey\n",
      "\n",
      "\n",
      "Explanation of Symbols:An '**' entry in the margin of error column indicates that either no sample observations or too few sample observations were available t\n",
      "...\n"
     ]
    }
   ],
   "source": [
    "file_name = 'ACS_13_5YR_DP0'+year+'.txt'\n",
    "with open(path_base+path_specfic+file_name) as f:\n",
    "    text_description = f.read()\n",
    "print(text_description[:1000])\n",
    "print('...')"
   ]
  },
  {
   "cell_type": "code",
   "execution_count": 59,
   "metadata": {
    "collapsed": false
   },
   "outputs": [
    {
     "data": {
      "text/html": [
       "<div style=\"max-height:1000px;max-width:1500px;overflow:auto;\">\n",
       "<table border=\"1\" class=\"dataframe\">\n",
       "  <thead>\n",
       "    <tr style=\"text-align: right;\">\n",
       "      <th></th>\n",
       "      <th>GEO.id</th>\n",
       "      <th>Id</th>\n",
       "    </tr>\n",
       "  </thead>\n",
       "  <tbody>\n",
       "    <tr>\n",
       "      <th>0</th>\n",
       "      <td>GEO.id2</td>\n",
       "      <td>Id2</td>\n",
       "    </tr>\n",
       "    <tr>\n",
       "      <th>1</th>\n",
       "      <td>GEO.display-label</td>\n",
       "      <td>Geography</td>\n",
       "    </tr>\n",
       "    <tr>\n",
       "      <th>2</th>\n",
       "      <td>HC01_VC03</td>\n",
       "      <td>Estimate; SEX AND AGE - Total population</td>\n",
       "    </tr>\n",
       "    <tr>\n",
       "      <th>3</th>\n",
       "      <td>HC02_VC03</td>\n",
       "      <td>Margin of Error; SEX AND AGE - Total population</td>\n",
       "    </tr>\n",
       "    <tr>\n",
       "      <th>4</th>\n",
       "      <td>HC03_VC03</td>\n",
       "      <td>Percent; SEX AND AGE - Total population</td>\n",
       "    </tr>\n",
       "  </tbody>\n",
       "</table>\n",
       "</div>"
      ],
      "text/plain": [
       "              GEO.id                                               Id\n",
       "0            GEO.id2                                              Id2\n",
       "1  GEO.display-label                                        Geography\n",
       "2          HC01_VC03         Estimate; SEX AND AGE - Total population\n",
       "3          HC02_VC03  Margin of Error; SEX AND AGE - Total population\n",
       "4          HC03_VC03          Percent; SEX AND AGE - Total population"
      ]
     },
     "execution_count": 59,
     "metadata": {},
     "output_type": "execute_result"
    }
   ],
   "source": [
    "# Load meta data\n",
    "file_name = \"ACS_13_5YR_DP0\"+year+\"_metadata.csv\"\n",
    "path_name = (path_base+path_specfic+file_name)\n",
    "df_meta = pd.read_csv(path_name)\n",
    "df_meta.head()"
   ]
  },
  {
   "cell_type": "code",
   "execution_count": 71,
   "metadata": {
    "collapsed": false
   },
   "outputs": [
    {
     "name": "stdout",
     "output_type": "stream",
     "text": [
      "(198, 327)\n"
     ]
    },
    {
     "data": {
      "text/html": [
       "<div style=\"max-height:1000px;max-width:1500px;overflow:auto;\">\n",
       "<table border=\"1\" class=\"dataframe\">\n",
       "  <thead>\n",
       "    <tr style=\"text-align: right;\">\n",
       "      <th></th>\n",
       "      <th>GEO.id</th>\n",
       "      <th>GEO.id2</th>\n",
       "      <th>GEO.display-label</th>\n",
       "      <th>HC01_VC03</th>\n",
       "      <th>HC02_VC03</th>\n",
       "      <th>HC03_VC03</th>\n",
       "      <th>HC04_VC03</th>\n",
       "      <th>HC01_VC04</th>\n",
       "      <th>HC02_VC04</th>\n",
       "      <th>HC03_VC04</th>\n",
       "      <th>...</th>\n",
       "      <th>HC03_VC101</th>\n",
       "      <th>HC04_VC101</th>\n",
       "      <th>HC01_VC102</th>\n",
       "      <th>HC02_VC102</th>\n",
       "      <th>HC03_VC102</th>\n",
       "      <th>HC04_VC102</th>\n",
       "      <th>HC01_VC104</th>\n",
       "      <th>HC02_VC104</th>\n",
       "      <th>HC03_VC104</th>\n",
       "      <th>HC04_VC104</th>\n",
       "    </tr>\n",
       "  </thead>\n",
       "  <tbody>\n",
       "    <tr>\n",
       "      <th>0</th>\n",
       "      <td>Id</td>\n",
       "      <td>Id2</td>\n",
       "      <td>Geography</td>\n",
       "      <td>Estimate; SEX AND AGE - Total population</td>\n",
       "      <td>Margin of Error; SEX AND AGE - Total population</td>\n",
       "      <td>Percent; SEX AND AGE - Total population</td>\n",
       "      <td>Percent Margin of Error; SEX AND AGE - Total p...</td>\n",
       "      <td>Estimate; SEX AND AGE - Total population - Male</td>\n",
       "      <td>Margin of Error; SEX AND AGE - Total populatio...</td>\n",
       "      <td>Percent; SEX AND AGE - Total population - Male</td>\n",
       "      <td>...</td>\n",
       "      <td>Percent; HISPANIC OR LATINO AND RACE - Total p...</td>\n",
       "      <td>Percent Margin of Error; HISPANIC OR LATINO AN...</td>\n",
       "      <td>Estimate; HISPANIC OR LATINO AND RACE - Total ...</td>\n",
       "      <td>Margin of Error; HISPANIC OR LATINO AND RACE -...</td>\n",
       "      <td>Percent; HISPANIC OR LATINO AND RACE - Total p...</td>\n",
       "      <td>Percent Margin of Error; HISPANIC OR LATINO AN...</td>\n",
       "      <td>Estimate; HISPANIC OR LATINO AND RACE - Total ...</td>\n",
       "      <td>Margin of Error; HISPANIC OR LATINO AND RACE -...</td>\n",
       "      <td>Percent; HISPANIC OR LATINO AND RACE - Total h...</td>\n",
       "      <td>Percent Margin of Error; HISPANIC OR LATINO AN...</td>\n",
       "    </tr>\n",
       "    <tr>\n",
       "      <th>1</th>\n",
       "      <td>1400000US06075010100</td>\n",
       "      <td>06075010100</td>\n",
       "      <td>Census Tract 101, San Francisco County, Califo...</td>\n",
       "      <td>3741</td>\n",
       "      <td>358</td>\n",
       "      <td>3741</td>\n",
       "      <td>(X)</td>\n",
       "      <td>2051</td>\n",
       "      <td>343</td>\n",
       "      <td>54.8</td>\n",
       "      <td>...</td>\n",
       "      <td>1.4</td>\n",
       "      <td>2.1</td>\n",
       "      <td>192</td>\n",
       "      <td>177</td>\n",
       "      <td>5.1</td>\n",
       "      <td>4.7</td>\n",
       "      <td>2306</td>\n",
       "      <td>84</td>\n",
       "      <td>(X)</td>\n",
       "      <td>(X)</td>\n",
       "    </tr>\n",
       "  </tbody>\n",
       "</table>\n",
       "<p>2 rows × 327 columns</p>\n",
       "</div>"
      ],
      "text/plain": [
       "                 GEO.id      GEO.id2  \\\n",
       "0                    Id          Id2   \n",
       "1  1400000US06075010100  06075010100   \n",
       "\n",
       "                                   GEO.display-label  \\\n",
       "0                                          Geography   \n",
       "1  Census Tract 101, San Francisco County, Califo...   \n",
       "\n",
       "                                  HC01_VC03  \\\n",
       "0  Estimate; SEX AND AGE - Total population   \n",
       "1                                      3741   \n",
       "\n",
       "                                         HC02_VC03  \\\n",
       "0  Margin of Error; SEX AND AGE - Total population   \n",
       "1                                              358   \n",
       "\n",
       "                                 HC03_VC03  \\\n",
       "0  Percent; SEX AND AGE - Total population   \n",
       "1                                     3741   \n",
       "\n",
       "                                           HC04_VC03  \\\n",
       "0  Percent Margin of Error; SEX AND AGE - Total p...   \n",
       "1                                                (X)   \n",
       "\n",
       "                                         HC01_VC04  \\\n",
       "0  Estimate; SEX AND AGE - Total population - Male   \n",
       "1                                             2051   \n",
       "\n",
       "                                           HC02_VC04  \\\n",
       "0  Margin of Error; SEX AND AGE - Total populatio...   \n",
       "1                                                343   \n",
       "\n",
       "                                        HC03_VC04  \\\n",
       "0  Percent; SEX AND AGE - Total population - Male   \n",
       "1                                            54.8   \n",
       "\n",
       "                         ...                          \\\n",
       "0                        ...                           \n",
       "1                        ...                           \n",
       "\n",
       "                                          HC03_VC101  \\\n",
       "0  Percent; HISPANIC OR LATINO AND RACE - Total p...   \n",
       "1                                                1.4   \n",
       "\n",
       "                                          HC04_VC101  \\\n",
       "0  Percent Margin of Error; HISPANIC OR LATINO AN...   \n",
       "1                                                2.1   \n",
       "\n",
       "                                          HC01_VC102  \\\n",
       "0  Estimate; HISPANIC OR LATINO AND RACE - Total ...   \n",
       "1                                                192   \n",
       "\n",
       "                                          HC02_VC102  \\\n",
       "0  Margin of Error; HISPANIC OR LATINO AND RACE -...   \n",
       "1                                                177   \n",
       "\n",
       "                                          HC03_VC102  \\\n",
       "0  Percent; HISPANIC OR LATINO AND RACE - Total p...   \n",
       "1                                                5.1   \n",
       "\n",
       "                                          HC04_VC102  \\\n",
       "0  Percent Margin of Error; HISPANIC OR LATINO AN...   \n",
       "1                                                4.7   \n",
       "\n",
       "                                          HC01_VC104  \\\n",
       "0  Estimate; HISPANIC OR LATINO AND RACE - Total ...   \n",
       "1                                               2306   \n",
       "\n",
       "                                          HC02_VC104  \\\n",
       "0  Margin of Error; HISPANIC OR LATINO AND RACE -...   \n",
       "1                                                 84   \n",
       "\n",
       "                                          HC03_VC104  \\\n",
       "0  Percent; HISPANIC OR LATINO AND RACE - Total h...   \n",
       "1                                                (X)   \n",
       "\n",
       "                                          HC04_VC104  \n",
       "0  Percent Margin of Error; HISPANIC OR LATINO AN...  \n",
       "1                                                (X)  \n",
       "\n",
       "[2 rows x 327 columns]"
      ]
     },
     "execution_count": 71,
     "metadata": {},
     "output_type": "execute_result"
    }
   ],
   "source": [
    "\n",
    "# Load data\n",
    "file_name = \"ACS_13_5YR_DP0\"+year+\"_with_ann.csv\"\n",
    "path_name = (path_base+path_specfic+file_name)\n",
    "df_data_with_ann = pd.read_csv(path_name)\n",
    "print(df_data_with_ann.shape)\n",
    "df_data_with_ann.head(n=2)"
   ]
  },
  {
   "cell_type": "code",
   "execution_count": 77,
   "metadata": {
    "collapsed": false
   },
   "outputs": [
    {
     "data": {
      "text/plain": [
       "dict_values([{'HC01_VC66': 'Estimate; RACE - One race - Native Hawaiian and Other Pacific Islander - Guamanian or Chamorro', 'HC04_VC89': 'Percent Margin of Error; HISPANIC OR LATINO AND RACE - Total population - Hispanic or Latino (of any race) - Mexican', 'HC02_VC37': 'Margin of Error; SEX AND AGE - 65 years and over', 'HC01_VC57': 'Estimate; RACE - One race - Asian - Asian Indian', 'HC03_VC91': 'Percent; HISPANIC OR LATINO AND RACE - Total population - Hispanic or Latino (of any race) - Cuban', 'HC04_VC26': 'Percent Margin of Error; SEX AND AGE - 18 years and over', 'HC04_VC68': 'Percent Margin of Error; RACE - One race - Native Hawaiian and Other Pacific Islander - Other Pacific Islander', 'HC03_VC70': 'Percent; RACE - Two or more races', 'HC01_VC13': 'Estimate; SEX AND AGE - 25 to 34 years', 'HC01_VC91': 'Estimate; HISPANIC OR LATINO AND RACE - Total population - Hispanic or Latino (of any race) - Cuban', 'HC02_VC89': 'Margin of Error; HISPANIC OR LATINO AND RACE - Total population - Hispanic or Latino (of any race) - Mexican', 'HC01_VC65': 'Estimate; RACE - One race - Native Hawaiian and Other Pacific Islander - Native Hawaiian', 'HC01_VC03': 'Estimate; SEX AND AGE - Total population', 'HC02_VC49': 'Margin of Error; RACE - One race - White', 'HC02_VC08': 'Margin of Error; SEX AND AGE - Under 5 years', 'HC01_VC81': 'Estimate; RACE - Race alone or in combination with one or more other races - Total population - Asian', 'HC04_VC60': 'Percent Margin of Error; RACE - One race - Asian - Japanese', 'HC04_VC64': 'Percent Margin of Error; RACE - One race - Native Hawaiian and Other Pacific Islander', 'HC01_VC82': 'Estimate; RACE - Race alone or in combination with one or more other races - Total population - Native Hawaiian and Other Pacific Islander', 'HC01_VC05': 'Estimate; SEX AND AGE - Total population - Female', 'HC01_VC27': 'Estimate; SEX AND AGE - 21 years and over', 'HC04_VC74': 'Percent Margin of Error; RACE - Two or more races - Black or African American and American Indian and Alaska Native', 'HC03_VC67': 'Percent; RACE - One race - Native Hawaiian and Other Pacific Islander - Samoan', 'HC04_VC32': 'Percent Margin of Error; SEX AND AGE - 18 years and over', 'HC04_VC23': 'Percent Margin of Error; SEX AND AGE - Median age (years)', 'HC03_VC98': 'Percent; HISPANIC OR LATINO AND RACE - Total population - Not Hispanic or Latino - Native Hawaiian and Other Pacific Islander alone', 'HC02_VC92': 'Margin of Error; HISPANIC OR LATINO AND RACE - Total population - Hispanic or Latino (of any race) - Other Hispanic or Latino', 'HC04_VC49': 'Percent Margin of Error; RACE - One race - White', 'HC01_VC95': 'Estimate; HISPANIC OR LATINO AND RACE - Total population - Not Hispanic or Latino - Black or African American alone', 'HC03_VC95': 'Percent; HISPANIC OR LATINO AND RACE - Total population - Not Hispanic or Latino - Black or African American alone', 'HC02_VC65': 'Margin of Error; RACE - One race - Native Hawaiian and Other Pacific Islander - Native Hawaiian', 'HC02_VC16': 'Margin of Error; SEX AND AGE - 55 to 59 years', 'HC04_VC78': 'Percent Margin of Error; RACE - Race alone or in combination with one or more other races - Total population - White', 'HC04_VC08': 'Percent Margin of Error; SEX AND AGE - Under 5 years', 'HC04_VC44': 'Percent Margin of Error; RACE - Total population - One race', 'HC01_VC102': 'Estimate; HISPANIC OR LATINO AND RACE - Total population - Not Hispanic or Latino - Two or more races - Two races excluding Some other race, and Three or more races', 'HC02_VC34': 'Margin of Error; SEX AND AGE - 18 years and over - Female', 'HC02_VC60': 'Margin of Error; RACE - One race - Asian - Japanese', 'HC04_VC67': 'Percent Margin of Error; RACE - One race - Native Hawaiian and Other Pacific Islander - Samoan', 'HC04_VC104': 'Percent Margin of Error; HISPANIC OR LATINO AND RACE - Total housing units', 'HC03_VC16': 'Percent; SEX AND AGE - 55 to 59 years', 'HC04_VC29': 'Percent Margin of Error; SEX AND AGE - 65 years and over', 'HC01_VC33': 'Estimate; SEX AND AGE - 18 years and over - Male', 'HC02_VC53': 'Margin of Error; RACE - One race - American Indian and Alaska Native - Chippewa tribal grouping', 'HC04_VC65': 'Percent Margin of Error; RACE - One race - Native Hawaiian and Other Pacific Islander - Native Hawaiian', 'HC02_VC69': 'Margin of Error; RACE - One race - Some other race', 'HC01_VC23': 'Estimate; SEX AND AGE - Median age (years)', 'HC01_VC64': 'Estimate; RACE - One race - Native Hawaiian and Other Pacific Islander', 'HC03_VC20': 'Percent; SEX AND AGE - 85 years and over', 'HC02_VC32': 'Margin of Error; SEX AND AGE - 18 years and over', 'HC01_VC12': 'Estimate; SEX AND AGE - 20 to 24 years', 'HC01_VC29': 'Estimate; SEX AND AGE - 65 years and over', 'HC03_VC73': 'Percent; RACE - Two or more races - White and Asian', 'HC01_VC92': 'Estimate; HISPANIC OR LATINO AND RACE - Total population - Hispanic or Latino (of any race) - Other Hispanic or Latino', 'HC04_VC43': 'Percent Margin of Error; RACE - Total population', 'HC02_VC93': 'Margin of Error; HISPANIC OR LATINO AND RACE - Total population - Not Hispanic or Latino', 'HC01_VC63': 'Estimate; RACE - One race - Asian - Other Asian', 'HC02_VC56': 'Margin of Error; RACE - One race - Asian', 'HC02_VC101': 'Margin of Error; HISPANIC OR LATINO AND RACE - Total population - Not Hispanic or Latino - Two or more races - Two races including Some other race', 'HC01_VC99': 'Estimate; HISPANIC OR LATINO AND RACE - Total population - Not Hispanic or Latino - Some other race alone', 'HC01_VC49': 'Estimate; RACE - One race - White', 'HC02_VC64': 'Margin of Error; RACE - One race - Native Hawaiian and Other Pacific Islander', 'HC03_VC43': 'Percent; RACE - Total population', 'HC04_VC14': 'Percent Margin of Error; SEX AND AGE - 35 to 44 years', 'HC03_VC72': 'Percent; RACE - Two or more races - White and American Indian and Alaska Native', 'HC03_VC23': 'Percent; SEX AND AGE - Median age (years)', 'HC03_VC77': 'Percent; RACE - Race alone or in combination with one or more other races - Total population', 'HC01_VC45': 'Estimate; RACE - Total population - Two or more races', 'HC02_VC18': 'Margin of Error; SEX AND AGE - 65 to 74 years', 'HC04_VC102': 'Percent Margin of Error; HISPANIC OR LATINO AND RACE - Total population - Not Hispanic or Latino - Two or more races - Two races excluding Some other race, and Three or more races', 'HC03_VC69': 'Percent; RACE - One race - Some other race', 'HC03_VC93': 'Percent; HISPANIC OR LATINO AND RACE - Total population - Not Hispanic or Latino', 'HC03_VC60': 'Percent; RACE - One race - Asian - Japanese', 'HC04_VC98': 'Percent Margin of Error; HISPANIC OR LATINO AND RACE - Total population - Not Hispanic or Latino - Native Hawaiian and Other Pacific Islander alone', 'HC01_VC101': 'Estimate; HISPANIC OR LATINO AND RACE - Total population - Not Hispanic or Latino - Two or more races - Two races including Some other race', 'HC04_VC20': 'Percent Margin of Error; SEX AND AGE - 85 years and over', 'HC04_VC19': 'Percent Margin of Error; SEX AND AGE - 75 to 84 years', 'HC02_VC83': 'Margin of Error; RACE - Race alone or in combination with one or more other races - Total population - Some other race', 'HC04_VC96': 'Percent Margin of Error; HISPANIC OR LATINO AND RACE - Total population - Not Hispanic or Latino - American Indian and Alaska Native alone', 'HC04_VC81': 'Percent Margin of Error; RACE - Race alone or in combination with one or more other races - Total population - Asian', 'HC04_VC57': 'Percent Margin of Error; RACE - One race - Asian - Asian Indian', 'HC02_VC14': 'Margin of Error; SEX AND AGE - 35 to 44 years', 'HC02_VC95': 'Margin of Error; HISPANIC OR LATINO AND RACE - Total population - Not Hispanic or Latino - Black or African American alone', 'HC03_VC14': 'Percent; SEX AND AGE - 35 to 44 years', 'HC03_VC89': 'Percent; HISPANIC OR LATINO AND RACE - Total population - Hispanic or Latino (of any race) - Mexican', 'HC01_VC59': 'Estimate; RACE - One race - Asian - Filipino', 'HC02_VC100': 'Margin of Error; HISPANIC OR LATINO AND RACE - Total population - Not Hispanic or Latino - Two or more races', 'HC02_VC15': 'Margin of Error; SEX AND AGE - 45 to 54 years', 'HC03_VC97': 'Percent; HISPANIC OR LATINO AND RACE - Total population - Not Hispanic or Latino - Asian alone', 'HC02_VC23': 'Margin of Error; SEX AND AGE - Median age (years)', 'HC04_VC33': 'Percent Margin of Error; SEX AND AGE - 18 years and over - Male', 'HC01_VC44': 'Estimate; RACE - Total population - One race', 'HC04_VC91': 'Percent Margin of Error; HISPANIC OR LATINO AND RACE - Total population - Hispanic or Latino (of any race) - Cuban', 'HC01_VC89': 'Estimate; HISPANIC OR LATINO AND RACE - Total population - Hispanic or Latino (of any race) - Mexican', 'HC01_VC53': 'Estimate; RACE - One race - American Indian and Alaska Native - Chippewa tribal grouping', 'HC03_VC79': 'Percent; RACE - Race alone or in combination with one or more other races - Total population - Black or African American', 'HC01_VC17': 'Estimate; SEX AND AGE - 60 to 64 years', 'HC04_VC83': 'Percent Margin of Error; RACE - Race alone or in combination with one or more other races - Total population - Some other race', 'HC01_VC98': 'Estimate; HISPANIC OR LATINO AND RACE - Total population - Not Hispanic or Latino - Native Hawaiian and Other Pacific Islander alone', 'HC02_VC43': 'Margin of Error; RACE - Total population', 'HC01_VC97': 'Estimate; HISPANIC OR LATINO AND RACE - Total population - Not Hispanic or Latino - Asian alone', 'HC01_VC88': 'Estimate; HISPANIC OR LATINO AND RACE - Total population - Hispanic or Latino (of any race)', 'HC02_VC29': 'Margin of Error; SEX AND AGE - 65 years and over', 'HC02_VC66': 'Margin of Error; RACE - One race - Native Hawaiian and Other Pacific Islander - Guamanian or Chamorro', 'HC01_VC69': 'Estimate; RACE - One race - Some other race', 'HC01_VC73': 'Estimate; RACE - Two or more races - White and Asian', 'HC02_VC17': 'Margin of Error; SEX AND AGE - 60 to 64 years', 'HC02_VC09': 'Margin of Error; SEX AND AGE - 5 to 9 years', 'HC04_VC05': 'Percent Margin of Error; SEX AND AGE - Total population - Female', 'HC02_VC13': 'Margin of Error; SEX AND AGE - 25 to 34 years', 'HC02_VC59': 'Margin of Error; RACE - One race - Asian - Filipino', 'HC01_VC70': 'Estimate; RACE - Two or more races', 'HC01_VC83': 'Estimate; RACE - Race alone or in combination with one or more other races - Total population - Some other race', 'HC02_VC38': 'Margin of Error; SEX AND AGE - 65 years and over - Male', 'HC03_VC59': 'Percent; RACE - One race - Asian - Filipino', 'HC01_VC34': 'Estimate; SEX AND AGE - 18 years and over - Female', 'HC04_VC54': 'Percent Margin of Error; RACE - One race - American Indian and Alaska Native - Navajo tribal grouping', 'HC01_VC38': 'Estimate; SEX AND AGE - 65 years and over - Male', 'HC04_VC38': 'Percent Margin of Error; SEX AND AGE - 65 years and over - Male', 'HC03_VC92': 'Percent; HISPANIC OR LATINO AND RACE - Total population - Hispanic or Latino (of any race) - Other Hispanic or Latino', 'HC01_VC08': 'Estimate; SEX AND AGE - Under 5 years', 'HC02_VC54': 'Margin of Error; RACE - One race - American Indian and Alaska Native - Navajo tribal grouping', 'HC02_VC70': 'Margin of Error; RACE - Two or more races', 'HC04_VC09': 'Percent Margin of Error; SEX AND AGE - 5 to 9 years', 'HC03_VC09': 'Percent; SEX AND AGE - 5 to 9 years', 'HC04_VC95': 'Percent Margin of Error; HISPANIC OR LATINO AND RACE - Total population - Not Hispanic or Latino - Black or African American alone', 'HC02_VC91': 'Margin of Error; HISPANIC OR LATINO AND RACE - Total population - Hispanic or Latino (of any race) - Cuban', 'HC04_VC101': 'Percent Margin of Error; HISPANIC OR LATINO AND RACE - Total population - Not Hispanic or Latino - Two or more races - Two races including Some other race', 'HC02_VC71': 'Margin of Error; RACE - Two or more races - White and Black or African American', 'HC01_VC80': 'Estimate; RACE - Race alone or in combination with one or more other races - Total population - American Indian and Alaska Native', 'HC03_VC18': 'Percent; SEX AND AGE - 65 to 74 years', 'HC01_VC79': 'Estimate; RACE - Race alone or in combination with one or more other races - Total population - Black or African American', 'HC01_VC28': 'Estimate; SEX AND AGE - 62 years and over', 'HC04_VC52': 'Percent Margin of Error; RACE - One race - American Indian and Alaska Native - Cherokee tribal grouping', 'HC01_VC19': 'Estimate; SEX AND AGE - 75 to 84 years', 'HC01_VC39': 'Estimate; SEX AND AGE - 65 years and over - Female', 'HC03_VC87': 'Percent; HISPANIC OR LATINO AND RACE - Total population', 'HC01_VC90': 'Estimate; HISPANIC OR LATINO AND RACE - Total population - Hispanic or Latino (of any race) - Puerto Rican', 'HC03_VC34': 'Percent; SEX AND AGE - 18 years and over - Female', 'HC04_VC97': 'Percent Margin of Error; HISPANIC OR LATINO AND RACE - Total population - Not Hispanic or Latino - Asian alone', 'GEO.id': 'Id', 'HC01_VC50': 'Estimate; RACE - One race - Black or African American', 'HC01_VC09': 'Estimate; SEX AND AGE - 5 to 9 years', 'HC02_VC102': 'Margin of Error; HISPANIC OR LATINO AND RACE - Total population - Not Hispanic or Latino - Two or more races - Two races excluding Some other race, and Three or more races', 'HC01_VC16': 'Estimate; SEX AND AGE - 55 to 59 years', 'HC03_VC19': 'Percent; SEX AND AGE - 75 to 84 years', 'HC03_VC52': 'Percent; RACE - One race - American Indian and Alaska Native - Cherokee tribal grouping', 'HC01_VC62': 'Estimate; RACE - One race - Asian - Vietnamese', 'HC02_VC79': 'Margin of Error; RACE - Race alone or in combination with one or more other races - Total population - Black or African American', 'HC01_VC52': 'Estimate; RACE - One race - American Indian and Alaska Native - Cherokee tribal grouping', 'HC02_VC94': 'Margin of Error; HISPANIC OR LATINO AND RACE - Total population - Not Hispanic or Latino - White alone', 'HC03_VC37': 'Percent; SEX AND AGE - 65 years and over', 'HC03_VC55': 'Percent; RACE - One race - American Indian and Alaska Native - Sioux tribal grouping', 'HC02_VC03': 'Margin of Error; SEX AND AGE - Total population', 'HC02_VC26': 'Margin of Error; SEX AND AGE - 18 years and over', 'HC04_VC77': 'Percent Margin of Error; RACE - Race alone or in combination with one or more other races - Total population', 'HC03_VC80': 'Percent; RACE - Race alone or in combination with one or more other races - Total population - American Indian and Alaska Native', 'HC03_VC88': 'Percent; HISPANIC OR LATINO AND RACE - Total population - Hispanic or Latino (of any race)', 'HC03_VC74': 'Percent; RACE - Two or more races - Black or African American and American Indian and Alaska Native', 'HC03_VC12': 'Percent; SEX AND AGE - 20 to 24 years', 'HC04_VC70': 'Percent Margin of Error; RACE - Two or more races', 'HC02_VC99': 'Margin of Error; HISPANIC OR LATINO AND RACE - Total population - Not Hispanic or Latino - Some other race alone', 'HC03_VC99': 'Percent; HISPANIC OR LATINO AND RACE - Total population - Not Hispanic or Latino - Some other race alone', 'HC03_VC50': 'Percent; RACE - One race - Black or African American', 'HC02_VC77': 'Margin of Error; RACE - Race alone or in combination with one or more other races - Total population', 'HC04_VC66': 'Percent Margin of Error; RACE - One race - Native Hawaiian and Other Pacific Islander - Guamanian or Chamorro', 'HC03_VC27': 'Percent; SEX AND AGE - 21 years and over', 'HC02_VC90': 'Margin of Error; HISPANIC OR LATINO AND RACE - Total population - Hispanic or Latino (of any race) - Puerto Rican', 'HC03_VC39': 'Percent; SEX AND AGE - 65 years and over - Female', 'HC02_VC39': 'Margin of Error; SEX AND AGE - 65 years and over - Female', 'HC04_VC80': 'Percent Margin of Error; RACE - Race alone or in combination with one or more other races - Total population - American Indian and Alaska Native', 'HC01_VC32': 'Estimate; SEX AND AGE - 18 years and over', 'HC03_VC38': 'Percent; SEX AND AGE - 65 years and over - Male', 'HC01_VC43': 'Estimate; RACE - Total population', 'HC03_VC10': 'Percent; SEX AND AGE - 10 to 14 years', 'HC01_VC11': 'Estimate; SEX AND AGE - 15 to 19 years', 'HC04_VC16': 'Percent Margin of Error; SEX AND AGE - 55 to 59 years', 'HC03_VC04': 'Percent; SEX AND AGE - Total population - Male', 'HC04_VC82': 'Percent Margin of Error; RACE - Race alone or in combination with one or more other races - Total population - Native Hawaiian and Other Pacific Islander', 'HC02_VC97': 'Margin of Error; HISPANIC OR LATINO AND RACE - Total population - Not Hispanic or Latino - Asian alone', 'HC02_VC28': 'Margin of Error; SEX AND AGE - 62 years and over', 'HC02_VC98': 'Margin of Error; HISPANIC OR LATINO AND RACE - Total population - Not Hispanic or Latino - Native Hawaiian and Other Pacific Islander alone', 'HC04_VC92': 'Percent Margin of Error; HISPANIC OR LATINO AND RACE - Total population - Hispanic or Latino (of any race) - Other Hispanic or Latino', 'HC04_VC45': 'Percent Margin of Error; RACE - Total population - Two or more races', 'HC02_VC57': 'Margin of Error; RACE - One race - Asian - Asian Indian', 'HC01_VC93': 'Estimate; HISPANIC OR LATINO AND RACE - Total population - Not Hispanic or Latino', 'HC04_VC17': 'Percent Margin of Error; SEX AND AGE - 60 to 64 years', 'HC04_VC18': 'Percent Margin of Error; SEX AND AGE - 65 to 74 years', 'HC03_VC03': 'Percent; SEX AND AGE - Total population', 'HC02_VC48': 'Margin of Error; RACE - One race', 'HC02_VC45': 'Margin of Error; RACE - Total population - Two or more races', 'HC03_VC08': 'Percent; SEX AND AGE - Under 5 years', 'HC02_VC87': 'Margin of Error; HISPANIC OR LATINO AND RACE - Total population', 'HC03_VC68': 'Percent; RACE - One race - Native Hawaiian and Other Pacific Islander - Other Pacific Islander', 'HC03_VC15': 'Percent; SEX AND AGE - 45 to 54 years', 'HC03_VC44': 'Percent; RACE - Total population - One race', 'HC01_VC78': 'Estimate; RACE - Race alone or in combination with one or more other races - Total population - White', 'HC04_VC27': 'Percent Margin of Error; SEX AND AGE - 21 years and over', 'HC04_VC11': 'Percent Margin of Error; SEX AND AGE - 15 to 19 years', 'HC03_VC13': 'Percent; SEX AND AGE - 25 to 34 years', 'HC04_VC79': 'Percent Margin of Error; RACE - Race alone or in combination with one or more other races - Total population - Black or African American', 'HC02_VC27': 'Margin of Error; SEX AND AGE - 21 years and over', 'HC01_VC72': 'Estimate; RACE - Two or more races - White and American Indian and Alaska Native', 'HC03_VC96': 'Percent; HISPANIC OR LATINO AND RACE - Total population - Not Hispanic or Latino - American Indian and Alaska Native alone', 'HC02_VC12': 'Margin of Error; SEX AND AGE - 20 to 24 years', 'HC01_VC96': 'Estimate; HISPANIC OR LATINO AND RACE - Total population - Not Hispanic or Latino - American Indian and Alaska Native alone', 'HC02_VC50': 'Margin of Error; RACE - One race - Black or African American', 'HC03_VC49': 'Percent; RACE - One race - White', 'HC01_VC18': 'Estimate; SEX AND AGE - 65 to 74 years', 'HC03_VC83': 'Percent; RACE - Race alone or in combination with one or more other races - Total population - Some other race', 'HC02_VC63': 'Margin of Error; RACE - One race - Asian - Other Asian', 'HC03_VC101': 'Percent; HISPANIC OR LATINO AND RACE - Total population - Not Hispanic or Latino - Two or more races - Two races including Some other race', 'HC03_VC63': 'Percent; RACE - One race - Asian - Other Asian', 'HC03_VC58': 'Percent; RACE - One race - Asian - Chinese', 'HC04_VC12': 'Percent Margin of Error; SEX AND AGE - 20 to 24 years', 'HC04_VC28': 'Percent Margin of Error; SEX AND AGE - 62 years and over', 'HC02_VC104': 'Margin of Error; HISPANIC OR LATINO AND RACE - Total housing units', 'HC01_VC60': 'Estimate; RACE - One race - Asian - Japanese', 'HC01_VC87': 'Estimate; HISPANIC OR LATINO AND RACE - Total population', 'HC01_VC61': 'Estimate; RACE - One race - Asian - Korean', 'HC01_VC04': 'Estimate; SEX AND AGE - Total population - Male', 'HC02_VC55': 'Margin of Error; RACE - One race - American Indian and Alaska Native - Sioux tribal grouping', 'HC03_VC62': 'Percent; RACE - One race - Asian - Vietnamese', 'HC02_VC82': 'Margin of Error; RACE - Race alone or in combination with one or more other races - Total population - Native Hawaiian and Other Pacific Islander', 'HC02_VC61': 'Margin of Error; RACE - One race - Asian - Korean', 'HC03_VC54': 'Percent; RACE - One race - American Indian and Alaska Native - Navajo tribal grouping', 'HC04_VC69': 'Percent Margin of Error; RACE - One race - Some other race', 'HC04_VC34': 'Percent Margin of Error; SEX AND AGE - 18 years and over - Female', 'HC03_VC11': 'Percent; SEX AND AGE - 15 to 19 years', 'HC03_VC104': 'Percent; HISPANIC OR LATINO AND RACE - Total housing units', 'HC01_VC51': 'Estimate; RACE - One race - American Indian and Alaska Native', 'HC01_VC71': 'Estimate; RACE - Two or more races - White and Black or African American', 'HC03_VC26': 'Percent; SEX AND AGE - 18 years and over', 'HC01_VC37': 'Estimate; SEX AND AGE - 65 years and over', 'HC03_VC53': 'Percent; RACE - One race - American Indian and Alaska Native - Chippewa tribal grouping', 'HC02_VC51': 'Margin of Error; RACE - One race - American Indian and Alaska Native', 'HC01_VC77': 'Estimate; RACE - Race alone or in combination with one or more other races - Total population', 'HC01_VC58': 'Estimate; RACE - One race - Asian - Chinese', 'HC02_VC74': 'Margin of Error; RACE - Two or more races - Black or African American and American Indian and Alaska Native', 'HC02_VC10': 'Margin of Error; SEX AND AGE - 10 to 14 years', 'HC01_VC26': 'Estimate; SEX AND AGE - 18 years and over', 'HC02_VC62': 'Margin of Error; RACE - One race - Asian - Vietnamese', 'HC04_VC48': 'Percent Margin of Error; RACE - One race', 'HC01_VC67': 'Estimate; RACE - One race - Native Hawaiian and Other Pacific Islander - Samoan', 'HC02_VC11': 'Margin of Error; SEX AND AGE - 15 to 19 years', 'HC04_VC50': 'Percent Margin of Error; RACE - One race - Black or African American', 'HC02_VC20': 'Margin of Error; SEX AND AGE - 85 years and over', 'HC02_VC19': 'Margin of Error; SEX AND AGE - 75 to 84 years', 'HC03_VC100': 'Percent; HISPANIC OR LATINO AND RACE - Total population - Not Hispanic or Latino - Two or more races', 'HC04_VC13': 'Percent Margin of Error; SEX AND AGE - 25 to 34 years', 'HC04_VC99': 'Percent Margin of Error; HISPANIC OR LATINO AND RACE - Total population - Not Hispanic or Latino - Some other race alone', 'HC03_VC82': 'Percent; RACE - Race alone or in combination with one or more other races - Total population - Native Hawaiian and Other Pacific Islander', 'HC02_VC58': 'Margin of Error; RACE - One race - Asian - Chinese', 'HC01_VC54': 'Estimate; RACE - One race - American Indian and Alaska Native - Navajo tribal grouping', 'HC04_VC51': 'Percent Margin of Error; RACE - One race - American Indian and Alaska Native', 'HC03_VC64': 'Percent; RACE - One race - Native Hawaiian and Other Pacific Islander', 'HC04_VC73': 'Percent Margin of Error; RACE - Two or more races - White and Asian', 'HC02_VC88': 'Margin of Error; HISPANIC OR LATINO AND RACE - Total population - Hispanic or Latino (of any race)', 'HC04_VC90': 'Percent Margin of Error; HISPANIC OR LATINO AND RACE - Total population - Hispanic or Latino (of any race) - Puerto Rican', 'HC04_VC10': 'Percent Margin of Error; SEX AND AGE - 10 to 14 years', 'HC02_VC44': 'Margin of Error; RACE - Total population - One race', 'HC02_VC52': 'Margin of Error; RACE - One race - American Indian and Alaska Native - Cherokee tribal grouping', 'HC01_VC100': 'Estimate; HISPANIC OR LATINO AND RACE - Total population - Not Hispanic or Latino - Two or more races', 'HC04_VC100': 'Percent Margin of Error; HISPANIC OR LATINO AND RACE - Total population - Not Hispanic or Latino - Two or more races', 'HC03_VC61': 'Percent; RACE - One race - Asian - Korean', 'HC02_VC73': 'Margin of Error; RACE - Two or more races - White and Asian', 'HC03_VC90': 'Percent; HISPANIC OR LATINO AND RACE - Total population - Hispanic or Latino (of any race) - Puerto Rican', 'HC02_VC96': 'Margin of Error; HISPANIC OR LATINO AND RACE - Total population - Not Hispanic or Latino - American Indian and Alaska Native alone', 'HC04_VC55': 'Percent Margin of Error; RACE - One race - American Indian and Alaska Native - Sioux tribal grouping', 'HC01_VC68': 'Estimate; RACE - One race - Native Hawaiian and Other Pacific Islander - Other Pacific Islander', 'HC01_VC15': 'Estimate; SEX AND AGE - 45 to 54 years', 'HC04_VC53': 'Percent Margin of Error; RACE - One race - American Indian and Alaska Native - Chippewa tribal grouping', 'HC03_VC29': 'Percent; SEX AND AGE - 65 years and over', 'HC03_VC66': 'Percent; RACE - One race - Native Hawaiian and Other Pacific Islander - Guamanian or Chamorro', 'HC04_VC62': 'Percent Margin of Error; RACE - One race - Asian - Vietnamese', 'HC03_VC45': 'Percent; RACE - Total population - Two or more races', 'HC01_VC14': 'Estimate; SEX AND AGE - 35 to 44 years', 'HC04_VC93': 'Percent Margin of Error; HISPANIC OR LATINO AND RACE - Total population - Not Hispanic or Latino', 'HC01_VC48': 'Estimate; RACE - One race', 'HC03_VC33': 'Percent; SEX AND AGE - 18 years and over - Male', 'HC03_VC94': 'Percent; HISPANIC OR LATINO AND RACE - Total population - Not Hispanic or Latino - White alone', 'HC02_VC80': 'Margin of Error; RACE - Race alone or in combination with one or more other races - Total population - American Indian and Alaska Native', 'HC02_VC68': 'Margin of Error; RACE - One race - Native Hawaiian and Other Pacific Islander - Other Pacific Islander', 'HC04_VC87': 'Percent Margin of Error; HISPANIC OR LATINO AND RACE - Total population', 'HC03_VC71': 'Percent; RACE - Two or more races - White and Black or African American', 'HC01_VC104': 'Estimate; HISPANIC OR LATINO AND RACE - Total housing units', 'HC01_VC10': 'Estimate; SEX AND AGE - 10 to 14 years', 'HC01_VC20': 'Estimate; SEX AND AGE - 85 years and over', 'HC03_VC102': 'Percent; HISPANIC OR LATINO AND RACE - Total population - Not Hispanic or Latino - Two or more races - Two races excluding Some other race, and Three or more races', 'HC04_VC04': 'Percent Margin of Error; SEX AND AGE - Total population - Male', 'HC04_VC15': 'Percent Margin of Error; SEX AND AGE - 45 to 54 years', 'HC04_VC59': 'Percent Margin of Error; RACE - One race - Asian - Filipino', 'HC02_VC04': 'Margin of Error; SEX AND AGE - Total population - Male', 'HC02_VC72': 'Margin of Error; RACE - Two or more races - White and American Indian and Alaska Native', 'HC01_VC55': 'Estimate; RACE - One race - American Indian and Alaska Native - Sioux tribal grouping', 'HC01_VC74': 'Estimate; RACE - Two or more races - Black or African American and American Indian and Alaska Native', 'HC04_VC72': 'Percent Margin of Error; RACE - Two or more races - White and American Indian and Alaska Native', 'HC04_VC61': 'Percent Margin of Error; RACE - One race - Asian - Korean', 'HC02_VC67': 'Margin of Error; RACE - One race - Native Hawaiian and Other Pacific Islander - Samoan', 'HC04_VC39': 'Percent Margin of Error; SEX AND AGE - 65 years and over - Female', 'HC03_VC05': 'Percent; SEX AND AGE - Total population - Female', 'HC04_VC58': 'Percent Margin of Error; RACE - One race - Asian - Chinese', 'HC01_VC94': 'Estimate; HISPANIC OR LATINO AND RACE - Total population - Not Hispanic or Latino - White alone', 'HC02_VC05': 'Margin of Error; SEX AND AGE - Total population - Female', 'HC02_VC81': 'Margin of Error; RACE - Race alone or in combination with one or more other races - Total population - Asian', 'HC04_VC71': 'Percent Margin of Error; RACE - Two or more races - White and Black or African American', 'HC03_VC28': 'Percent; SEX AND AGE - 62 years and over', 'HC02_VC78': 'Margin of Error; RACE - Race alone or in combination with one or more other races - Total population - White', 'HC04_VC63': 'Percent Margin of Error; RACE - One race - Asian - Other Asian', 'HC04_VC88': 'Percent Margin of Error; HISPANIC OR LATINO AND RACE - Total population - Hispanic or Latino (of any race)', 'HC03_VC56': 'Percent; RACE - One race - Asian', 'HC03_VC78': 'Percent; RACE - Race alone or in combination with one or more other races - Total population - White', 'GEO.id2': 'Id2', 'HC04_VC56': 'Percent Margin of Error; RACE - One race - Asian', 'HC04_VC94': 'Percent Margin of Error; HISPANIC OR LATINO AND RACE - Total population - Not Hispanic or Latino - White alone', 'HC03_VC81': 'Percent; RACE - Race alone or in combination with one or more other races - Total population - Asian', 'GEO.display-label': 'Geography', 'HC03_VC32': 'Percent; SEX AND AGE - 18 years and over', 'HC04_VC03': 'Percent Margin of Error; SEX AND AGE - Total population', 'HC03_VC51': 'Percent; RACE - One race - American Indian and Alaska Native', 'HC04_VC37': 'Percent Margin of Error; SEX AND AGE - 65 years and over', 'HC03_VC57': 'Percent; RACE - One race - Asian - Asian Indian', 'HC02_VC33': 'Margin of Error; SEX AND AGE - 18 years and over - Male', 'HC01_VC56': 'Estimate; RACE - One race - Asian', 'HC03_VC48': 'Percent; RACE - One race', 'HC03_VC65': 'Percent; RACE - One race - Native Hawaiian and Other Pacific Islander - Native Hawaiian', 'HC03_VC17': 'Percent; SEX AND AGE - 60 to 64 years'}])"
      ]
     },
     "execution_count": 77,
     "metadata": {},
     "output_type": "execute_result"
    }
   ],
   "source": [
    "# 1st row is annotations / meta data\n",
    "df_data_with_ann[:1]\n",
    "df_data_with_ann[:1].T.to_dict().values()"
   ]
  },
  {
   "cell_type": "markdown",
   "metadata": {},
   "source": [
    "Ideas and work is tracked on [Hackpad](https://datakindsfbayarea.hackpad.com/SF-Health-Improvement-Partnership-SFHIP-IdGfO4Yn60V)"
   ]
  },
  {
   "cell_type": "code",
   "execution_count": 43,
   "metadata": {
    "collapsed": true
   },
   "outputs": [],
   "source": [
    "# Filter / reduce data"
   ]
  },
  {
   "cell_type": "code",
   "execution_count": 44,
   "metadata": {
    "collapsed": false
   },
   "outputs": [
    {
     "ename": "SyntaxError",
     "evalue": "invalid syntax (<ipython-input-44-000d74dddb49>, line 3)",
     "output_type": "error",
     "traceback": [
      "\u001b[0;36m  File \u001b[0;32m\"<ipython-input-44-000d74dddb49>\"\u001b[0;36m, line \u001b[0;32m3\u001b[0m\n\u001b[0;31m    Total households\u001b[0m\n\u001b[0m                   ^\u001b[0m\n\u001b[0;31mSyntaxError\u001b[0m\u001b[0;31m:\u001b[0m invalid syntax\n"
     ]
    }
   ],
   "source": [
    "# Define these groups:\n",
    "ACS_13_5YR_DP02_metadata\n",
    "Total households\n",
    "Families with children \n",
    "Under 12\n",
    "12 to 18\n",
    "19 to 64\n",
    "65 and over\n",
    "Single Parents\n",
    "Under 12\n",
    "12 to 18\n",
    "19 to 64\n",
    "65 and over\n",
    "Average family size\n",
    "Estimate; HOUSEHOLDS BY TYPE - Average family size\n",
    "Educational Attainment\n",
    "No Educational Attainment\n",
    "High School\n",
    "Collect\n",
    "Master and Beyond\n",
    "Disability\n",
    "Percent; DISABILITY STATUS OF THE CIVILIAN NONINSTITUTIONALIZED POPULATION - 18 to 64 years\n",
    "Percent; PLACE OF BIRTH - Total population - Native"
   ]
  }
 ],
 "metadata": {
  "kernelspec": {
   "display_name": "Python 3",
   "language": "python",
   "name": "python3"
  },
  "language_info": {
   "codemirror_mode": {
    "name": "ipython",
    "version": 3
   },
   "file_extension": ".py",
   "mimetype": "text/x-python",
   "name": "python",
   "nbconvert_exporter": "python",
   "pygments_lexer": "ipython3",
   "version": "3.4.3"
  }
 },
 "nbformat": 4,
 "nbformat_minor": 0
}
