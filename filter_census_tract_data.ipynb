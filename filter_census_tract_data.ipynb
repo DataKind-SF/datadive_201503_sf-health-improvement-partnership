{
 "cells": [
  {
   "cell_type": "markdown",
   "metadata": {},
   "source": [
    "##Reduce / transform Census Tract data\n",
    "[Data](https://docs.google.com/file/d/0B1aa6nX82m2WY2RBNERsd0VfN1k/edit)"
   ]
  },
  {
   "cell_type": "code",
   "execution_count": 27,
   "metadata": {
    "collapsed": true
   },
   "outputs": [],
   "source": [
    "import pandas as pd"
   ]
  },
  {
   "cell_type": "code",
   "execution_count": 28,
   "metadata": {
    "collapsed": true
   },
   "outputs": [],
   "source": [
    "path_base = (\"/Users/brian/Google Drive/\")\n",
    "path_specfic = \"SPHIP/2009-2013 ACS Demographic Data/Census Tract Data Files and Documentation/\""
   ]
  },
  {
   "cell_type": "code",
   "execution_count": 29,
   "metadata": {
    "collapsed": false
   },
   "outputs": [
    {
     "name": "stdout",
     "output_type": "stream",
     "text": [
      "DP02\n",
      "SELECTED SOCIAL CHARACTERISTICS IN THE UNITED STATES\n",
      "\n",
      "Although the American Community Survey (ACS) produces population, demographic and housing unit estimates, it is the Census Bureau's Population Estimates Program that produces and disseminates the official estimates of the population for the nation, states, counties, cities and towns and estimates of housing units for states and counties.\n",
      "\n",
      "\n",
      "Supporting documentation on code lists, subject definitions, data accuracy, and statistical testing can be found on the American Community Survey website in the Data and Documentation section.\n",
      "\n",
      "Sample size and data quality measures (including coverage rates, allocation rates, and response rates) can be found on the American Community Survey website in the Methodology section.\n",
      "\n",
      "\n",
      "Source:  U.S. Census Bureau, 2009-2013 5-Year American Community Survey\n",
      "\n",
      "\n",
      "Explanation of Symbols:An '**' entry in the margin of error column indicates that either no sample observations or too few sample observations w\n"
     ]
    }
   ],
   "source": [
    "file_name = 'ACS_13_5YR_DP02.txt'\n",
    "with open(path_base+path_specfic+file_name) as f:\n",
    "    text_description = f.read()\n",
    "print(text_description[:1000])"
   ]
  },
  {
   "cell_type": "code",
   "execution_count": 30,
   "metadata": {
    "collapsed": false
   },
   "outputs": [
    {
     "data": {
      "text/html": [
       "<div style=\"max-height:1000px;max-width:1500px;overflow:auto;\">\n",
       "<table border=\"1\" class=\"dataframe\">\n",
       "  <thead>\n",
       "    <tr style=\"text-align: right;\">\n",
       "      <th></th>\n",
       "      <th>GEO.id</th>\n",
       "      <th>Id</th>\n",
       "    </tr>\n",
       "  </thead>\n",
       "  <tbody>\n",
       "    <tr>\n",
       "      <th>0</th>\n",
       "      <td>GEO.id2</td>\n",
       "      <td>Id2</td>\n",
       "    </tr>\n",
       "    <tr>\n",
       "      <th>1</th>\n",
       "      <td>GEO.display-label</td>\n",
       "      <td>Geography</td>\n",
       "    </tr>\n",
       "    <tr>\n",
       "      <th>2</th>\n",
       "      <td>HC01_VC03</td>\n",
       "      <td>Estimate; HOUSEHOLDS BY TYPE - Total households</td>\n",
       "    </tr>\n",
       "    <tr>\n",
       "      <th>3</th>\n",
       "      <td>HC02_VC03</td>\n",
       "      <td>Margin of Error; HOUSEHOLDS BY TYPE - Total ho...</td>\n",
       "    </tr>\n",
       "    <tr>\n",
       "      <th>4</th>\n",
       "      <td>HC03_VC03</td>\n",
       "      <td>Percent; HOUSEHOLDS BY TYPE - Total households</td>\n",
       "    </tr>\n",
       "  </tbody>\n",
       "</table>\n",
       "</div>"
      ],
      "text/plain": [
       "              GEO.id                                                 Id\n",
       "0            GEO.id2                                                Id2\n",
       "1  GEO.display-label                                          Geography\n",
       "2          HC01_VC03    Estimate; HOUSEHOLDS BY TYPE - Total households\n",
       "3          HC02_VC03  Margin of Error; HOUSEHOLDS BY TYPE - Total ho...\n",
       "4          HC03_VC03     Percent; HOUSEHOLDS BY TYPE - Total households"
      ]
     },
     "execution_count": 30,
     "metadata": {},
     "output_type": "execute_result"
    }
   ],
   "source": [
    "# Load meta data\n",
    "file_name = \"ACS_13_5YR_DP02_metadata.csv\"\n",
    "path_name = (path_base+path_specfic+file_name)\n",
    "df_meta = pd.read_csv(path_name)\n",
    "df_meta.head()"
   ]
  },
  {
   "cell_type": "code",
   "execution_count": 35,
   "metadata": {
    "collapsed": false
   },
   "outputs": [
    {
     "data": {
      "text/html": [
       "<div style=\"max-height:1000px;max-width:1500px;overflow:auto;\">\n",
       "<table border=\"1\" class=\"dataframe\">\n",
       "  <thead>\n",
       "    <tr style=\"text-align: right;\">\n",
       "      <th></th>\n",
       "      <th>GEO.id</th>\n",
       "      <th>GEO.id2</th>\n",
       "      <th>GEO.display-label</th>\n",
       "      <th>HC01_VC03</th>\n",
       "      <th>HC02_VC03</th>\n",
       "      <th>HC03_VC03</th>\n",
       "      <th>HC04_VC03</th>\n",
       "      <th>HC01_VC04</th>\n",
       "      <th>HC02_VC04</th>\n",
       "      <th>HC03_VC04</th>\n",
       "      <th>...</th>\n",
       "      <th>HC03_VC216</th>\n",
       "      <th>HC04_VC216</th>\n",
       "      <th>HC01_VC217</th>\n",
       "      <th>HC02_VC217</th>\n",
       "      <th>HC03_VC217</th>\n",
       "      <th>HC04_VC217</th>\n",
       "      <th>HC01_VC218</th>\n",
       "      <th>HC02_VC218</th>\n",
       "      <th>HC03_VC218</th>\n",
       "      <th>HC04_VC218</th>\n",
       "    </tr>\n",
       "  </thead>\n",
       "  <tbody>\n",
       "    <tr>\n",
       "      <th>0</th>\n",
       "      <td>Id</td>\n",
       "      <td>Id2</td>\n",
       "      <td>Geography</td>\n",
       "      <td>Estimate; HOUSEHOLDS BY TYPE - Total households</td>\n",
       "      <td>Margin of Error; HOUSEHOLDS BY TYPE - Total ho...</td>\n",
       "      <td>Percent; HOUSEHOLDS BY TYPE - Total households</td>\n",
       "      <td>Percent Margin of Error; HOUSEHOLDS BY TYPE - ...</td>\n",
       "      <td>Estimate; HOUSEHOLDS BY TYPE - Total household...</td>\n",
       "      <td>Margin of Error; HOUSEHOLDS BY TYPE - Total ho...</td>\n",
       "      <td>Percent; HOUSEHOLDS BY TYPE - Total households...</td>\n",
       "      <td>...</td>\n",
       "      <td>Percent; COMPUTERS AND INTERNET USE - Total Ho...</td>\n",
       "      <td>Percent Margin of Error; COMPUTERS AND INTERNE...</td>\n",
       "      <td>Estimate; COMPUTERS AND INTERNET USE - Total H...</td>\n",
       "      <td>Margin of Error; COMPUTERS AND INTERNET USE - ...</td>\n",
       "      <td>Percent; COMPUTERS AND INTERNET USE - Total Ho...</td>\n",
       "      <td>Percent Margin of Error; COMPUTERS AND INTERNE...</td>\n",
       "      <td>Estimate; COMPUTERS AND INTERNET USE - Total H...</td>\n",
       "      <td>Margin of Error; COMPUTERS AND INTERNET USE - ...</td>\n",
       "      <td>Percent; COMPUTERS AND INTERNET USE - Total Ho...</td>\n",
       "      <td>Percent Margin of Error; COMPUTERS AND INTERNE...</td>\n",
       "    </tr>\n",
       "    <tr>\n",
       "      <th>1</th>\n",
       "      <td>1400000US06075010100</td>\n",
       "      <td>06075010100</td>\n",
       "      <td>Census Tract 101, San Francisco County, Califo...</td>\n",
       "      <td>2177</td>\n",
       "      <td>126</td>\n",
       "      <td>2177</td>\n",
       "      <td>(X)</td>\n",
       "      <td>603</td>\n",
       "      <td>137</td>\n",
       "      <td>27.7</td>\n",
       "      <td>...</td>\n",
       "      <td>(X)</td>\n",
       "      <td>(X)</td>\n",
       "      <td>(X)</td>\n",
       "      <td>(X)</td>\n",
       "      <td>(X)</td>\n",
       "      <td>(X)</td>\n",
       "      <td>(X)</td>\n",
       "      <td>(X)</td>\n",
       "      <td>(X)</td>\n",
       "      <td>(X)</td>\n",
       "    </tr>\n",
       "  </tbody>\n",
       "</table>\n",
       "<p>2 rows × 611 columns</p>\n",
       "</div>"
      ],
      "text/plain": [
       "                 GEO.id      GEO.id2  \\\n",
       "0                    Id          Id2   \n",
       "1  1400000US06075010100  06075010100   \n",
       "\n",
       "                                   GEO.display-label  \\\n",
       "0                                          Geography   \n",
       "1  Census Tract 101, San Francisco County, Califo...   \n",
       "\n",
       "                                         HC01_VC03  \\\n",
       "0  Estimate; HOUSEHOLDS BY TYPE - Total households   \n",
       "1                                             2177   \n",
       "\n",
       "                                           HC02_VC03  \\\n",
       "0  Margin of Error; HOUSEHOLDS BY TYPE - Total ho...   \n",
       "1                                                126   \n",
       "\n",
       "                                        HC03_VC03  \\\n",
       "0  Percent; HOUSEHOLDS BY TYPE - Total households   \n",
       "1                                            2177   \n",
       "\n",
       "                                           HC04_VC03  \\\n",
       "0  Percent Margin of Error; HOUSEHOLDS BY TYPE - ...   \n",
       "1                                                (X)   \n",
       "\n",
       "                                           HC01_VC04  \\\n",
       "0  Estimate; HOUSEHOLDS BY TYPE - Total household...   \n",
       "1                                                603   \n",
       "\n",
       "                                           HC02_VC04  \\\n",
       "0  Margin of Error; HOUSEHOLDS BY TYPE - Total ho...   \n",
       "1                                                137   \n",
       "\n",
       "                                           HC03_VC04  \\\n",
       "0  Percent; HOUSEHOLDS BY TYPE - Total households...   \n",
       "1                                               27.7   \n",
       "\n",
       "                         ...                          \\\n",
       "0                        ...                           \n",
       "1                        ...                           \n",
       "\n",
       "                                          HC03_VC216  \\\n",
       "0  Percent; COMPUTERS AND INTERNET USE - Total Ho...   \n",
       "1                                                (X)   \n",
       "\n",
       "                                          HC04_VC216  \\\n",
       "0  Percent Margin of Error; COMPUTERS AND INTERNE...   \n",
       "1                                                (X)   \n",
       "\n",
       "                                          HC01_VC217  \\\n",
       "0  Estimate; COMPUTERS AND INTERNET USE - Total H...   \n",
       "1                                                (X)   \n",
       "\n",
       "                                          HC02_VC217  \\\n",
       "0  Margin of Error; COMPUTERS AND INTERNET USE - ...   \n",
       "1                                                (X)   \n",
       "\n",
       "                                          HC03_VC217  \\\n",
       "0  Percent; COMPUTERS AND INTERNET USE - Total Ho...   \n",
       "1                                                (X)   \n",
       "\n",
       "                                          HC04_VC217  \\\n",
       "0  Percent Margin of Error; COMPUTERS AND INTERNE...   \n",
       "1                                                (X)   \n",
       "\n",
       "                                          HC01_VC218  \\\n",
       "0  Estimate; COMPUTERS AND INTERNET USE - Total H...   \n",
       "1                                                (X)   \n",
       "\n",
       "                                          HC02_VC218  \\\n",
       "0  Margin of Error; COMPUTERS AND INTERNET USE - ...   \n",
       "1                                                (X)   \n",
       "\n",
       "                                          HC03_VC218  \\\n",
       "0  Percent; COMPUTERS AND INTERNET USE - Total Ho...   \n",
       "1                                                (X)   \n",
       "\n",
       "                                          HC04_VC218  \n",
       "0  Percent Margin of Error; COMPUTERS AND INTERNE...  \n",
       "1                                                (X)  \n",
       "\n",
       "[2 rows x 611 columns]"
      ]
     },
     "execution_count": 35,
     "metadata": {},
     "output_type": "execute_result"
    }
   ],
   "source": [
    "# Load data\n",
    "file_name = \"ACS_13_5YR_DP02_with_ann.csv\"\n",
    "path_name = (path_base+path_specfic+file_name)\n",
    "df_data_with_ann = pd.read_csv(path_name)\n",
    "df_data_with_ann.head(n=2)"
   ]
  },
  {
   "cell_type": "code",
   "execution_count": 36,
   "metadata": {
    "collapsed": true
   },
   "outputs": [],
   "source": [
    "# 1st row is annotations / meta data\n",
    "# annotations = df_data_with_ann[0,:]"
   ]
  },
  {
   "cell_type": "markdown",
   "metadata": {},
   "source": [
    "Ideas and work is tracked on [Hackpad](https://datakindsfbayarea.hackpad.com/SF-Health-Improvement-Partnership-SFHIP-IdGfO4Yn60V)"
   ]
  },
  {
   "cell_type": "code",
   "execution_count": null,
   "metadata": {
    "collapsed": true
   },
   "outputs": [],
   "source": [
    "# Filter / reduce data"
   ]
  },
  {
   "cell_type": "code",
   "execution_count": null,
   "metadata": {
    "collapsed": true
   },
   "outputs": [],
   "source": [
    "# Define these groups:\n",
    "ACS_13_5YR_DP02_metadata\n",
    "Total households\n",
    "Families with children \n",
    "Under 12\n",
    "12 to 18\n",
    "19 to 64\n",
    "65 and over\n",
    "Single Parents\n",
    "Under 12\n",
    "12 to 18\n",
    "19 to 64\n",
    "65 and over\n",
    "Average family size\n",
    "Estimate; HOUSEHOLDS BY TYPE - Average family size\n",
    "Educational Attainment\n",
    "No Educational Attainment\n",
    "High School\n",
    "Collect\n",
    "Master and Beyond\n",
    "Disability\n",
    "Percent; DISABILITY STATUS OF THE CIVILIAN NONINSTITUTIONALIZED POPULATION - 18 to 64 years\n",
    "Percent; PLACE OF BIRTH - Total population - Native"
   ]
  }
 ],
 "metadata": {
  "kernelspec": {
   "display_name": "Python 3",
   "language": "python",
   "name": "python3"
  },
  "language_info": {
   "codemirror_mode": {
    "name": "ipython",
    "version": 3
   },
   "file_extension": ".py",
   "mimetype": "text/x-python",
   "name": "python",
   "nbconvert_exporter": "python",
   "pygments_lexer": "ipython3",
   "version": "3.4.3"
  }
 },
 "nbformat": 4,
 "nbformat_minor": 0
}
